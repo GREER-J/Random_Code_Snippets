{
 "cells": [
  {
   "cell_type": "code",
   "execution_count": 1,
   "metadata": {},
   "outputs": [
    {
     "name": "stdout",
     "output_type": "stream",
     "text": [
      "The cube is 64cm^3\n"
     ]
    }
   ],
   "source": [
    "\"\"\"\n",
    "Exercise 1.2: Volume of a Cube\n",
    "Write a program that computes the volume V of a cube with sides of length L = 4\n",
    "cm and prints the result to the screen. Both V and L should be defined as separate\n",
    "variables in the program. Run the program and confirm that the correct result is\n",
    "printed.\n",
    "\"\"\"\n",
    "\n",
    "#Variables\n",
    "v = 0 #Volume variables\n",
    "l = 4 #Length of each side in cm\n",
    "\n",
    "#Calculation\n",
    "v = l**3 # V = length * width * height (for cube all the same)\n",
    "\n",
    "#Output\n",
    "print(\"The cube is {}cm^3\".format(v))"
   ]
  },
  {
   "cell_type": "code",
   "execution_count": 2,
   "metadata": {},
   "outputs": [
    {
     "name": "stdout",
     "output_type": "stream",
     "text": [
      "A circle of radius 2 has a:\n",
      "\t- circumference of 12.57\n",
      "\t- an area of 12.57\n"
     ]
    }
   ],
   "source": [
    "\"\"\"\n",
    "Exercise 1.3: Area and Circumference of a Circle\n",
    "Write a program that computes both the circumference C and the area A of a circle\n",
    "with radius r = 2 cm. Let the results be printed to the screen on a single line with an\n",
    "appropriate text. The variables C, A and r should all be defined as separate variables\n",
    "in the program. Run the program and confirm that the correct results are printed.\n",
    "Filename: circumference_and_area.py.\n",
    "\"\"\"\n",
    "\n",
    "#import\n",
    "from math import pi\n",
    "\n",
    "#variables\n",
    "r = 2 #Radius in cm\n",
    "c = 0 #circumference of the circle in cm\n",
    "a = 0 #circumference of the circle in cm^2\n",
    "\n",
    "#Calculation\n",
    "c = round(2 * pi * r,2)\n",
    "a = round(pi * r**2,2)\n",
    "\n",
    "#Output\n",
    "print(\"A circle of radius {} has a:\\n\\t- circumference of {}\\n\\t- an area of {}\".format(r,c,a))"
   ]
  },
  {
   "cell_type": "code",
   "execution_count": 3,
   "metadata": {},
   "outputs": [
    {
     "name": "stdout",
     "output_type": "stream",
     "text": [
      "[ 1.  8. 27.]\n"
     ]
    }
   ],
   "source": [
    "\"\"\"\n",
    "Exercise 1.4: Volumes of Three Cubes\n",
    "We are interested in the volume V of a cube with length L: V = L3, computed for\n",
    "three different values of L.\n",
    "a) In a program, use the linspace function to compute and print three values of L,\n",
    "equally spaced on the interval [1, 3].\n",
    "b) Carry out, by hand, the computation V = L3 when L is an array with three\n",
    "elements. That is, compute V for each value of L.\n",
    "c) Modify the program in a), so that it prints out the result V of V = L**3 when L is\n",
    "an array with three elements as computed by linspace. Compare the resulting\n",
    "volumes with your hand calculations.\n",
    "d) Make a plot of V versus L.\n",
    "\"\"\"\n",
    "\n",
    "import numpy as np\n",
    "from matplotlib import pyplot as plt\n",
    "\n",
    "#Variables\n",
    "L = np.linspace(1,3,3) #An array of equally space numbers between 1 - 3\n",
    "V = 0 #Volume of each cube\n",
    "\n",
    "\n",
    "V = L**3\n",
    "\n",
    "print(V)"
   ]
  },
  {
   "cell_type": "code",
   "execution_count": 4,
   "metadata": {},
   "outputs": [
    {
     "name": "stdout",
     "output_type": "stream",
     "text": [
      "3.5\n"
     ]
    }
   ],
   "source": [
    "\"\"\"\n",
    "Exercise 1.5: Average of Integers\n",
    "Write a program that stores the sum 1 + 2 + 3 + 4 + 5 in one variable and then\n",
    "creates another variable with the average of these five numbers. Print the average to\n",
    "the screen and check that the result is correct.\n",
    "Filename: average_int.py.\n",
    "\"\"\"\n",
    "\n",
    "#Variables\n",
    "numbers = [1,2,3,4,5,6]\n",
    "\n",
    "#Functions\n",
    "def get_average(numbers):\n",
    "    total = 0\n",
    "    for i in numbers:\n",
    "        total += i\n",
    "    return(total / len(numbers))\n",
    "\n",
    "\n",
    "#Calculations\n",
    "average = get_average(numbers)\n",
    "\n",
    "#Output\n",
    "print(average)"
   ]
  },
  {
   "cell_type": "code",
   "execution_count": 5,
   "metadata": {},
   "outputs": [
    {
     "name": "stdout",
     "output_type": "stream",
     "text": [
      "Multiplying 3.141592653589793 and 2 gives 6.283185307179586\n"
     ]
    }
   ],
   "source": [
    "\"\"\"\n",
    "Exercise 1.6: Formatted Print to Screen\n",
    "Write a program that defines two variables as x = pi and y=2. Then let the\n",
    "program compute the product z of these two variables and print the result to the\n",
    "screen as\n",
    "Multiplying 3.14159 and 2 gives 6.283\n",
    "Filename: formatted_print.py.\n",
    "\"\"\"\n",
    "\n",
    "#Imports\n",
    "from math import pi\n",
    "\n",
    "#Variables\n",
    "x = pi\n",
    "y = 2 \n",
    "z = 0\n",
    "\n",
    "#Calculation\n",
    "z = x * y\n",
    "\n",
    "#Output\n",
    "print(\"Multiplying {} and {} gives {}\".format(x, y, z))"
   ]
  },
  {
   "cell_type": "code",
   "execution_count": 6,
   "metadata": {},
   "outputs": [
    {
     "name": "stdout",
     "output_type": "stream",
     "text": [
      "What is the length: 2\n",
      "The cube is 8cm^3\n"
     ]
    }
   ],
   "source": [
    "\"\"\"\n",
    "Exercise 2.1: Interactive Computing of Volume\n",
    "Redo the task in Exercise 1.2 by using Python interactively. Compare with what you\n",
    "got previously from the written program.\n",
    "\n",
    "Exercise 1.2: Volume of a Cube\n",
    "Write a program that computes the volume V of a cube with sides of length L = 4\n",
    "cm and prints the result to the screen. Both V and L should be defined as separate\n",
    "variables in the program. Run the program and confirm that the correct result is\n",
    "printed.\n",
    "\"\"\"\n",
    "\n",
    "#Variables\n",
    "v = 0 #Volume variables\n",
    "l = 0 #Length of each side in cm\n",
    "\n",
    "#Input\n",
    "l = int(input(\"What is the length: \"))\n",
    "\n",
    "#Calculation\n",
    "v = l**3 # V = length * width * height (for cube all the same)\n",
    "\n",
    "#Output\n",
    "print(\"The cube is {}cm^3\".format(v))"
   ]
  },
  {
   "cell_type": "code",
   "execution_count": 7,
   "metadata": {},
   "outputs": [
    {
     "name": "stdout",
     "output_type": "stream",
     "text": [
      "What is the radius: 2\n",
      "A circle of radius 2 has a:\n",
      "\t- circumference of 12.57\n",
      "\t- an area of 12.57\n"
     ]
    }
   ],
   "source": [
    "\"\"\"\n",
    "Exercise 2.2: Interactive Computing of Circumference and Area\n",
    "Redo the task in Exercise 1.3 by using Python interactively. Compare with what you\n",
    "got previously from the written program.\n",
    "\n",
    "Exercise 1.3: Area and Circumference of a Circle\n",
    "Write a program that computes both the circumference C and the area A of a circle\n",
    "with radius r = 2 cm. Let the results be printed to the screen on a single line with an\n",
    "appropriate text. The variables C, A and r should all be defined as separate variables\n",
    "in the program. Run the program and confirm that the correct results are printed.\n",
    "Filename: circumference_and_area.py.\n",
    "\"\"\"\n",
    "\n",
    "#import\n",
    "from math import pi\n",
    "\n",
    "#variables\n",
    "r = 0 #Radius in cm\n",
    "c = 0 #circumference of the circle in cm\n",
    "a = 0 #circumference of the circle in cm^2\n",
    "\n",
    "#Input\n",
    "r = int(input(\"What is the radius: \"))\n",
    "\n",
    "#Calculation\n",
    "c = round(2 * pi * r,2)\n",
    "a = round(pi * r**2,2)\n",
    "\n",
    "#Output\n",
    "print(\"A circle of radius {} has a:\\n\\t- circumference of {}\\n\\t- an area of {}\".format(r,c,a))"
   ]
  },
  {
   "cell_type": "code",
   "execution_count": 8,
   "metadata": {},
   "outputs": [
    {
     "name": "stdout",
     "output_type": "stream",
     "text": [
      "7\n",
      "12\n",
      "\n",
      " <class 'int'>\n"
     ]
    }
   ],
   "source": [
    "\"\"\"\n",
    "Exercise 2.3: Update Variable at Command Prompt\n",
    "Invoke Python interactively and perform the following steps.\n",
    "1. Initialize a variable x to 2.\n",
    "2. Add 3 to x. Print out the result.\n",
    "3. Print out the result of x + 1*2 and (x+1)*2. (Observe how parentheses make a\n",
    "difference).\n",
    "4. What object type does x refer to?\n",
    "\"\"\"\n",
    "\n",
    "#Variables\n",
    "x = 2\n",
    "\n",
    "#Calculation\n",
    "x += 3\n",
    "\n",
    "#Output\n",
    "print(x + 1*2)\n",
    "print((x + 1) * 2)\n",
    "\n",
    "\"\"\"- - - QUESTIONS - - - -\"\"\"\n",
    "#x is an integer\n",
    "print(\"\\n\", type(x))"
   ]
  },
  {
   "cell_type": "code",
   "execution_count": 9,
   "metadata": {},
   "outputs": [
    {
     "name": "stdout",
     "output_type": "stream",
     "text": [
      "2\n",
      "1\n"
     ]
    }
   ],
   "source": [
    "\"\"\"\n",
    "Exercise 2.4: Multiple Statements on One Line\n",
    "a) The output produced by the following two lines has been removed. Can you tell,\n",
    "from just reading the input, what the output was in each case?\n",
    "\n",
    "In [1]: x = 1; print(x + 1); x = x + 1; x += 1; x = x - 1; x -= 1\n",
    "In [2]: print(x)\n",
    "Then type it in and confirm that your predictions are correct.\n",
    "\n",
    "b) Repeat the previous task, but this time without statements number 3 and 4\n",
    "(counted from left) of the first input line. To confirm your prediction this time,\n",
    "use the command history facility to first bring up the previous command line,\n",
    "which you then edit appropriately before pressing enter.\n",
    "\"\"\"\n",
    "\n",
    "x = 1; print(x + 1); x = x + 1; x += 1; x = x - 1; x -= 1\n",
    "print(x)"
   ]
  },
  {
   "cell_type": "code",
   "execution_count": 10,
   "metadata": {},
   "outputs": [
    {
     "name": "stdout",
     "output_type": "stream",
     "text": [
      "1 is odd\n",
      "2 is even\n",
      "3 is odd\n",
      "4 is even\n"
     ]
    }
   ],
   "source": [
    "\"\"\"\n",
    "Exercise 2.5: Boolean Expression—Even or Odd Number?\n",
    "Let x be an integer. Use the modulo operator and suggest a boolean expression that\n",
    "can be used to check whether that integer is an even number (or odd, since if not\n",
    "even, the integer is odd). Then check your suggestion interactively, e.g., for x being\n",
    "1, 2, 3 and 4.\n",
    "\"\"\"\n",
    "\n",
    "#Imports\n",
    "\n",
    "#Variables\n",
    "x = [1,2,3,4] #List of numbers to check if odd\n",
    "\n",
    "#Input\n",
    "\n",
    "#Calculation\n",
    "for num in x:\n",
    "    if(num % 2 == 0):\n",
    "        print(num, \"is even\")\n",
    "    else:\n",
    "        print(num, \"is odd\")\n",
    "        \n",
    "\n",
    "#Output"
   ]
  },
  {
   "cell_type": "code",
   "execution_count": 11,
   "metadata": {},
   "outputs": [
    {
     "data": {
      "image/png": "[encoded data removed]",
      "text/plain": [
       "<Figure size 432x288 with 1 Axes>"
      ]
     },
     "metadata": {
      "needs_background": "light"
     },
     "output_type": "display_data"
    },
    {
     "data": {
      "image/png": "[encoded data removed]",
      "text/plain": [
       "<Figure size 432x288 with 1 Axes>"
      ]
     },
     "metadata": {
      "needs_background": "light"
     },
     "output_type": "display_data"
    }
   ],
   "source": [
    "\"\"\"\n",
    "Exercise 2.6: Plotting Array Data\n",
    "Assume four members of a family with heights 1.60 m, 1.85 m, 1.75 m, and 1.80 m.\n",
    "Next door, there is another family, also with four members. Their heights are 0.50 m,\n",
    "0.70 m, 1.90 m, and 1.75 m.\n",
    "\n",
    "a) Write a program that creates a single plot with all the heights from both families.\n",
    "In your code, use the zeros function from numpy to generate three arrays, two\n",
    "for keeping the heights from each family and one for “numbering” of family\n",
    "members (e.g., as 1, 2, 3 and 4). Let the code overwrite the zeros in the arrays\n",
    "with the heights given, using appropriate assignment statements. Let the heights\n",
    "be presented as two continuous curves in red and blue (solid lines), respectively,\n",
    "when the heights of each family are plotted against family member number. Use\n",
    "also the axis function for the plot, so that the axis with family member numbers\n",
    "run from 0 to 5, while the axis with heights cover 0 to 2.\n",
    "\n",
    "b) Suggest a minor modification of your code, so that only data points are plotted.\n",
    "Also, confirm that your suggestion works as planned.\n",
    "\"\"\"\n",
    "\n",
    "#Imports\n",
    "from matplotlib import pyplot as plt\n",
    "import numpy as np\n",
    "\n",
    "#Variables\n",
    "my_fam = [1.60, 1.85, 1.75, 1.80]\n",
    "next_fam = [0.5, 0.7, 1.90, 1.75]\n",
    "pos = []\n",
    "\n",
    "#Inputs\n",
    "\n",
    "#Calculations\n",
    "#Create position data\n",
    "if(len(my_fam) == len(my_fam)):\n",
    "    for i in range(len(my_fam)):\n",
    "        pos.append(i)\n",
    "else:\n",
    "    print(\"Families have different sizes!\")\n",
    "        \n",
    "#Output\n",
    "plt.plot(pos, my_fam, label = 'My family')\n",
    "plt.plot(pos, next_fam, label = 'Next family')\n",
    "plt.legend(loc = 'best')\n",
    "plt.title(\"Family size comparison\")\n",
    "plt.axis([0,5,0,2]) #[x0, x_lim, y0, y_lim]\n",
    "plt.show()\n",
    "\n",
    "\"\"\"- - - QUESTIONS - - - -\"\"\"\n",
    "#Output (only points)\n",
    "plt.plot(pos, my_fam, 'o', label = 'My family')\n",
    "plt.plot(pos, next_fam, 'o',  label = 'Next family')\n",
    "plt.legend(loc = 'best')\n",
    "plt.title(\"Family size comparison\")\n",
    "plt.axis([0,5,0,2]) #[x0, x_lim, y0, y_lim]\n",
    "plt.show()"
   ]
  },
  {
   "cell_type": "code",
   "execution_count": 12,
   "metadata": {},
   "outputs": [
    {
     "data": {
      "text/plain": [
       "'\\nExercise 2.7: Switching Values\\nIn an interactive session, use linspace from numpy to generate an array x with\\nthe numbers 1.0, 2.0 and 3.0. Then, switch the content of x[0] and x[1], before\\nchecking x to see that your switching worked as planned.\\n'"
      ]
     },
     "execution_count": 12,
     "metadata": {},
     "output_type": "execute_result"
    }
   ],
   "source": [
    "\"\"\"\n",
    "Exercise 2.7: Switching Values\n",
    "In an interactive session, use linspace from numpy to generate an array x with\n",
    "the numbers 1.0, 2.0 and 3.0. Then, switch the content of x[0] and x[1], before\n",
    "checking x to see that your switching worked as planned.\n",
    "\"\"\"\n",
    "\n",
    "#Skipped"
   ]
  },
  {
   "cell_type": "code",
   "execution_count": 13,
   "metadata": {},
   "outputs": [
    {
     "name": "stdout",
     "output_type": "stream",
     "text": [
      "1.5067830768973933\n",
      "3.8199929180567036\n",
      "9.091420673602128\n",
      "7.1350231070785455\n"
     ]
    }
   ],
   "source": [
    "\"\"\"\n",
    "Exercise 2.8: Drawing Random Numbers\n",
    "Write a program that prints four random numbers, from the interval [0, 10], to the\n",
    "screen. To generate the numbers, the program should use the uniform function from\n",
    "the random module of the standard Python library.\n",
    "Filename: drawing_random_numbers.py.\n",
    "\"\"\"\n",
    "\n",
    "#Imports\n",
    "import random\n",
    "\n",
    "#Variables\n",
    "r = 0 #Variable for random numbers\n",
    "numbers = []\n",
    "max_numbers = 4\n",
    "\n",
    "#Calculation\n",
    "for i in range(max_numbers):\n",
    "    r = random.uniform(0,10)\n",
    "    numbers.append(r)\n",
    "\n",
    "#Output\n",
    "for r in numbers:\n",
    "    print(r)"
   ]
  },
  {
   "cell_type": "code",
   "execution_count": 16,
   "metadata": {},
   "outputs": [
    {
     "name": "stdout",
     "output_type": "stream",
     "text": [
      "sum:  55\n"
     ]
    }
   ],
   "source": [
    "\"\"\"\n",
    "3.4 Exercises\n",
    "Exercise 3.1: A for Loop with Errors\n",
    "Assume some program has been written for the task of adding all integers i =\n",
    "1, 2,..., 10 and printing the final result:\n",
    "for i in [1, 2, 3, 4, 5, 6, 7, 8, 9, 10)\n",
    "sum = Sum + x\n",
    "print ’sum: ’, sum\n",
    "\n",
    "a) Identify the errors in the program by just reading the code.\n",
    "\n",
    "b) Write a new version of the program with errors corrected. Run this program and\n",
    "confirm that it gives the correct output\n",
    "\"\"\"\n",
    "\n",
    "\"\"\"\n",
    "#A: Errors\n",
    "    - Line 6: No openning bracket '('\n",
    "    - Line 6: No closing square bracket ']'\n",
    "    - Line 6: No colon ':'\n",
    "    - Line 7: No indenting\n",
    "    - Line 7: sum is an inbuilt term. Can't be used as variable name\n",
    "    - Line 7: second 'Sum' spelt with capital \"S\"\n",
    "    - Line 7: variable 'x' doesn't exist\n",
    "    - Line 8: Missing openeing bracket '(' on print statement\n",
    "    - Line 8: Double quotes should be used '\"'\n",
    "    - Line 8: No closing bracket ')'\n",
    "    - Line 8: Variable 'sum' needs to be created outside the loop\n",
    "\"\"\"\n",
    "#B: Corrected code\n",
    "sum_var = 0\n",
    "for i in ([1, 2, 3, 4, 5, 6, 7, 8, 9, 10]):\n",
    "    sum_var = sum_var + i\n",
    "print(\"sum: \", sum_var)"
   ]
  },
  {
   "cell_type": "code",
   "execution_count": null,
   "metadata": {},
   "outputs": [],
   "source": []
  }
 ],
 "metadata": {
  "kernelspec": {
   "display_name": "Python 3",
   "language": "python",
   "name": "python3"
  },
  "language_info": {
   "codemirror_mode": {
    "name": "ipython",
    "version": 3
   },
   "file_extension": ".py",
   "mimetype": "text/x-python",
   "name": "python",
   "nbconvert_exporter": "python",
   "pygments_lexer": "ipython3",
   "version": "3.8.3"
  }
 },
 "nbformat": 4,
 "nbformat_minor": 4
}
