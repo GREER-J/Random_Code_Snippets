{
 "cells": [
  {
   "cell_type": "code",
   "execution_count": 2,
   "metadata": {},
   "outputs": [
    {
     "name": "stdout",
     "output_type": "stream",
     "text": [
      "You can either play on easy or hard mode\n",
      "In easy mode you get told whether to go higher or lower every turn\n",
      "In hard mode you only get that every 10 turns\n",
      "Do you want to play on easy, 'yes' or 'no'?\n",
      "Your answer: yes\n",
      "Alright chickenshit\n",
      "Number chosen, let's go\n",
      "\n",
      "What is your guess: 50\n",
      "Go higher numpty\n",
      "\n",
      "What is your guess: 80\n",
      "Go higher numpty\n",
      "\n",
      "What is your guess: 90\n",
      "Go higher numpty\n",
      "\n",
      "What is your guess: 100\n",
      "Go lower numpty\n",
      "\n",
      "What is your guess: 95\n",
      "Go higher numpty\n",
      "\n",
      "What is your guess: 97\n",
      "Go higher numpty\n",
      "\n",
      "What is your guess: 98\n",
      "Well done\n",
      "You took 7 guesses\n",
      "You took 25.108 seconds\n"
     ]
    },
    {
     "data": {
      "image/png": "[encoded data removed]",
      "text/plain": [
       "<Figure size 432x288 with 1 Axes>"
      ]
     },
     "metadata": {
      "needs_background": "light"
     },
     "output_type": "display_data"
    },
    {
     "data": {
      "image/png": "[encoded data removed]",
      "text/plain": [
       "<Figure size 432x288 with 1 Axes>"
      ]
     },
     "metadata": {
      "needs_background": "light"
     },
     "output_type": "display_data"
    },
    {
     "name": "stdout",
     "output_type": "stream",
     "text": [
      "Do you want to play again, 'yes' or 'no'?\n",
      "Your answer: no\n",
      "\n",
      "We're sorry to see you go\n"
     ]
    }
   ],
   "source": [
    "\"\"\"\n",
    "Requirements:\n",
    " - Number guessing game\n",
    " - Computer chooses a number between two values the user sets\n",
    " - Player guesses the number\n",
    " - On easy \n",
    "\"\"\"\n",
    "\n",
    "#Imports\n",
    "import random\n",
    "import time\n",
    "import matplotlib.pyplot as plt\n",
    "\n",
    "#Variables\n",
    "play_again = True\n",
    "easy_mode = True\n",
    "\n",
    "#Loop\n",
    "while(play_again):\n",
    "    #Setup game variables\n",
    "    max_guesses = 10\n",
    "    current_guesses = 0\n",
    "    guess_data = []\n",
    "    time_data = []\n",
    "\n",
    "    num_min = 0\n",
    "    num_max = 100\n",
    "    lower_num = 0\n",
    "    higher_num = 0\n",
    "    guess = num_min -1\n",
    "    start_time = time.time()\n",
    "    \n",
    "    random_number = random.randrange(num_min, num_max)\n",
    "    \n",
    "    #Does player want easy mode?\n",
    "    print(\"You can either play on easy or hard mode\")\n",
    "    time.sleep(2)\n",
    "    print(\"In easy mode you get told whether to go higher or lower every turn\")\n",
    "    time.sleep(2)\n",
    "    print(\"In hard mode you only get that every 10 turns\")\n",
    "    time.sleep(2)\n",
    "    print(\"Do you want to play on easy, 'yes' or 'no'?\")\n",
    "    time.sleep(2)\n",
    "    answer = input(\"Your answer: \")\n",
    "    if(answer.lower() == 'yes'):\n",
    "        print(\"Alright chickenshit\")\n",
    "        print(\"Number chosen, let's go\")\n",
    "    else:\n",
    "        print(\"\\nOh look at the balls on you...\")\n",
    "        print(\"Alright, let's see how you go...\")\n",
    "        easy_mode = False\n",
    "    while(guess != random_number):\n",
    "        current_guesses += 1\n",
    "        guess = int(input(\"\\nWhat is your guess: \"))\n",
    "        time_data.append(round(time.time() - start_time,3))\n",
    "        guess_data.append(guess)\n",
    "        if(guess == random_number):\n",
    "            print(\"Well done\")\n",
    "            print(\"You took {} guesses\".format(current_guesses))\n",
    "            print(\"You took {} seconds\".format(round(time.time() - start_time,3)))\n",
    "            \n",
    "            #Show bar graph higher or lower\n",
    "            fig = plt.figure()\n",
    "            ax = fig.add_axes([0,0,1,1])\n",
    "            langs = ['Lower', 'Higher']\n",
    "            students = [lower_num, higher_num]\n",
    "            ax.bar(langs,students)\n",
    "            plt.title(\"Higher vs Lower\")\n",
    "            plt.show()\n",
    "            \n",
    "            #Show graph of guesses vs time\n",
    "            plt.plot(time_data, guess_data)\n",
    "            plt.title(\"Guess vs Time\")\n",
    "            plt.show()\n",
    "        else:\n",
    "            if(easy_mode):\n",
    "                if(guess < random_number):\n",
    "                    print(\"Go higher numpty\")\n",
    "                    higher_num += 1\n",
    "                else:\n",
    "                    print(\"Go lower numpty\")\n",
    "                    lower_num += 1\n",
    "            else:\n",
    "                if(current_guesses % 10 == 0):\n",
    "                    if(guess < random_number):\n",
    "                        print(\"Go higher numpty\")\n",
    "                        higher_num += 1\n",
    "                    else:\n",
    "                        print(\"Go lower numpty\")\n",
    "                        lower_num += 1\n",
    "    #Does player want to play agian?\n",
    "    print(\"Do you want to play again, 'yes' or 'no'?\")\n",
    "    answer = input(\"Your answer: \")\n",
    "    if(answer.lower() == 'yes'):\n",
    "        print(\"Get ready\")\n",
    "        print(\"GO!\")\n",
    "    else:\n",
    "        print(\"\\nWe're sorry to see you go\")\n",
    "        play_again = False"
   ]
  },
  {
   "cell_type": "code",
   "execution_count": null,
   "metadata": {},
   "outputs": [],
   "source": []
  }
 ],
 "metadata": {
  "kernelspec": {
   "display_name": "Python 3",
   "language": "python",
   "name": "python3"
  },
  "language_info": {
   "codemirror_mode": {
    "name": "ipython",
    "version": 3
   },
   "file_extension": ".py",
   "mimetype": "text/x-python",
   "name": "python",
   "nbconvert_exporter": "python",
   "pygments_lexer": "ipython3",
   "version": "3.8.3"
  }
 },
 "nbformat": 4,
 "nbformat_minor": 4
}
