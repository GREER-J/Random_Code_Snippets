{
 "cells": [
  {
   "cell_type": "markdown",
   "metadata": {},
   "source": [
    "Question 1"
   ]
  },
  {
   "cell_type": "code",
   "execution_count": 31,
   "metadata": {},
   "outputs": [
    {
     "name": "stdout",
     "output_type": "stream",
     "text": [
      "0.0657\n",
      "441208167659.31525\n"
     ]
    }
   ],
   "source": [
    "\"\"\"\n",
    "Question 1: Lab 1: ENGG2100\n",
    "\"\"\"\n",
    "\n",
    "\"\"\"\n",
    "Task:\n",
    "Max annual wind speed is an ln distribution.\n",
    "Mean of 42 m/s\n",
    "Stdev = 20 m/s\n",
    "Damage occurs at 75 m/s\n",
    "Dam in AUD = $100,000 * (W - 75 m/s)^2\n",
    "\n",
    "What is the probability of damage?\n",
    "\"\"\"\n",
    "\n",
    "#Imports\n",
    "import statistics as st\n",
    "from matplotlib import pyplot as plt\n",
    "import math\n",
    "\n",
    "#Variables\n",
    "mean = 42 #   m/s\n",
    "stdev = 20 #  m/s\n",
    "dam_lim = 75 #m/s\n",
    "\n",
    "n = 100000\n",
    "\n",
    "#precalculated variables\n",
    "cov = stdev / mean\n",
    "\n",
    "psi = math.sqrt(math.log(1 + cov**2))\n",
    "lamda = math.log(mean) - 0.5*psi**2\n",
    "\n",
    "data = st.NormalDist(lamda, psi).samples(n)\n",
    "nd = 0\n",
    "cd = 0\n",
    "\n",
    "#Calculation\n",
    "for w in data:\n",
    "    w = math.exp(w)\n",
    "    if(w > dam_lim):\n",
    "        nd += 1\n",
    "        cd += 100000 * (w - 75)**2\n",
    "        \n",
    "print(nd / n)\n",
    "print(cd)"
   ]
  }
 ],
 "metadata": {
  "kernelspec": {
   "display_name": "Python 3",
   "language": "python",
   "name": "python3"
  },
  "language_info": {
   "codemirror_mode": {
    "name": "ipython",
    "version": 3
   },
   "file_extension": ".py",
   "mimetype": "text/x-python",
   "name": "python",
   "nbconvert_exporter": "python",
   "pygments_lexer": "ipython3",
   "version": "3.8.3"
  }
 },
 "nbformat": 4,
 "nbformat_minor": 4
}
