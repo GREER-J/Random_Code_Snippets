{
 "cells": [
  {
   "cell_type": "code",
   "execution_count": 3,
   "metadata": {},
   "outputs": [
    {
     "name": "stdout",
     "output_type": "stream",
     "text": [
      "[(0.800000000000000, -3.99500000000000)]\n"
     ]
    }
   ],
   "source": [
    "import sympy as sym\n",
    "x,y = sym.symbols('x,y')\n",
    "eq1 = sym.Eq(x + y - (x*y),0.001)\n",
    "eq2 = sym.Eq((x*y) / y, 0.8)\n",
    "result = sym.solve([eq1,eq2],(x,y))\n",
    "print(result)"
   ]
  }
 ],
 "metadata": {
  "kernelspec": {
   "display_name": "Python 3",
   "language": "python",
   "name": "python3"
  },
  "language_info": {
   "codemirror_mode": {
    "name": "ipython",
    "version": 3
   },
   "file_extension": ".py",
   "mimetype": "text/x-python",
   "name": "python",
   "nbconvert_exporter": "python",
   "pygments_lexer": "ipython3",
   "version": "3.8.3"
  }
 },
 "nbformat": 4,
 "nbformat_minor": 4
}
