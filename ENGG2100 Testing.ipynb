{
 "cells": [
  {
   "cell_type": "code",
   "execution_count": null,
   "metadata": {},
   "outputs": [],
   "source": [
    "#Imports\n",
    "import statistics\n",
    "\n",
    "#Variables\n",
    "sum_n = 0\n",
    "data = [0, 0, 1, 1, 2, 2, 2, 3, 3, 3, 4, 5, 5, 6, 7, 8, 8, 8, 9, 9]\n",
    "course_average = 0\n",
    "\n",
    "#Calculation\n",
    "for n in data:\n",
    "    sum_n += n\n",
    "    course_average += n * 1/len(data)\n",
    "\n",
    "my_average = sum_n / len(data)\n",
    "their_average = statistics.mean(data)\n",
    "\n",
    "#Output\n",
    "print(\"Mine: {} vs Theirs: {} vs Course: {}\".format(my_average, their_average, course_average))"
   ]
  },
  {
   "cell_type": "code",
   "execution_count": null,
   "metadata": {},
   "outputs": [],
   "source": [
    "#Calculate dataset\n",
    "\n",
    "#Imports\n",
    "import random\n",
    "import statistics\n",
    "from scipy import stats\n",
    "\n",
    "#Variables\n",
    "len_dataset = 50\n",
    "\n",
    "min_num = 0\n",
    "max_num = 10\n",
    "\n",
    "dataset = []\n",
    "\n",
    "#Calculation\n",
    "for i in range(len_dataset):\n",
    "    dataset.append(random.randrange(min_num, max_num))\n",
    "dataset.sort()\n",
    "    \n",
    "#Output\n",
    "print(dataset)\n"
   ]
  },
  {
   "cell_type": "code",
   "execution_count": null,
   "metadata": {},
   "outputs": [],
   "source": [
    "#Variables\n",
    "A = 1.5 #Previous Xn\n",
    "B = 1.5 #Previous previous Xn\n",
    "Xn = 0 #Variable to store the current Xn\n",
    "\n",
    "Num_terms = 0\n",
    "\n",
    "#Inputs\n",
    "if(Num_terms == 0):\n",
    "    print(\"How many terms would you like to print?\")\n",
    "    Num_terms = int(input(\"Your answer: \"))\n",
    "\n",
    "#Print first 2\n",
    "print(\"X0 =\",A)\n",
    "print(\"X1 =\",B)\n",
    "    \n",
    "#Calculations\n",
    "for n in range(2, Num_terms):\n",
    "    Xn = round((0.2 * A) + (1.2 * B),2) #Calculate Xn\n",
    "    \n",
    "    B = A\n",
    "    A = Xn\n",
    "    \n",
    "    print(\"X{} = {}\".format(n, Xn))\n",
    "    \n",
    "\n",
    "#Outputs"
   ]
  },
  {
   "cell_type": "code",
   "execution_count": null,
   "metadata": {},
   "outputs": [],
   "source": [
    "#Imports\n",
    "from matplotlib import pyplot as plt\n",
    "\n",
    "#Variables\n",
    "A = 1.5 #Previous Xn\n",
    "B = 1.5 #Previous previous Xn\n",
    "Xn = 0 #Variable to store the current Xn\n",
    "\n",
    "Num_terms = 10\n",
    "data = []\n",
    "print_bool = True\n",
    "\n",
    "#Inputs\n",
    "if(Num_terms == 0):\n",
    "    print(\"How many terms would you like to print?\")\n",
    "    Num_terms = int(input(\"Your answer: \"))\n",
    "\n",
    "#Print first 2\n",
    "data.append(A)\n",
    "data.append(B)\n",
    "    \n",
    "#Calculations\n",
    "for n in range(2, Num_terms):\n",
    "    Xn = round((0.2 * A) + (1.2 * B),2) #Calculate Xn\n",
    "    \n",
    "    B = A # Update previous previous\n",
    "    A = Xn #Update previous\n",
    "    data.append(Xn) #Save current XN\n",
    "    \n",
    "\n",
    "#Outputs\n",
    "if(print_bool):\n",
    "    for i in range(len(data)):\n",
    "        print(\"X{} = {}\".format(i, data[i]))\n",
    "    \n",
    "plt.plot(data)\n",
    "plt.title(\"Xn vs i\")\n",
    "plt.show()"
   ]
  },
  {
   "cell_type": "code",
   "execution_count": null,
   "metadata": {},
   "outputs": [],
   "source": [
    "#Plot PDF for Tutorial 2\n",
    "\n",
    "#Imports\n",
    "from matplotlib import pyplot as plt\n",
    "\n",
    "#Variables\n",
    "x_min = -2\n",
    "x_max = 8\n",
    "num_steps = 1000\n",
    "Px_data = []\n",
    "x_data = []\n",
    "\n",
    "#Functions\n",
    "def PDF(x):\n",
    "    if(0 <= x and x <= 6):\n",
    "        Px = 1/6 * (x - (x**2 / 6))\n",
    "        return(Px)\n",
    "    else:\n",
    "        return(0)\n",
    "\n",
    "#Calculation\n",
    "for x in range(x_min * num_steps, x_max * num_steps):\n",
    "    x = x/num_steps\n",
    "    Px = PDF(x)\n",
    "    x_data.append(x)\n",
    "    Px_data.append(Px)\n",
    "\n",
    "#Output\n",
    "plt.title(\"pdf, Tutorial 2, Q2a\")\n",
    "plt.plot(x_data, Px_data)\n",
    "plt.xlabel(\"X value\")\n",
    "plt.ylabel(\"Percentage\")\n",
    "plt.show()"
   ]
  },
  {
   "cell_type": "code",
   "execution_count": 1,
   "metadata": {},
   "outputs": [
    {
     "data": {
      "image/png": "[encoded data removed]",
      "text/plain": [
       "<Figure size 432x288 with 1 Axes>"
      ]
     },
     "metadata": {
      "needs_background": "light"
     },
     "output_type": "display_data"
    },
    {
     "name": "stdout",
     "output_type": "stream",
     "text": [
      "0.9798200218216034\n"
     ]
    }
   ],
   "source": [
    "\"\"\"Testing for below\"\"\"\n",
    "\n",
    "lim = 1000000\n",
    "data = []\n",
    "for t in range(10,lim,1000):\n",
    "    p_op = 0\n",
    "    for i in range(t):\n",
    "        random_var = random.random()\n",
    "        if(random_var < p_operational):\n",
    "            p_op += 1\n",
    "    data.append(round(p_op / t,3))\n",
    "    if(t % 1000 == 0):\n",
    "        print(\"Took \", round(time.time() - start_time, 3))\n",
    "        start_time = time.time()\n",
    "\n",
    "#Ouput\n",
    "plt.plot(data)\n",
    "plt.show()\n",
    "print(p_op / t)"
   ]
  },
  {
   "cell_type": "code",
   "execution_count": 24,
   "metadata": {},
   "outputs": [
    {
     "name": "stdout",
     "output_type": "stream",
     "text": [
      "RESULTS:\n",
      "Operational that pass test: 0.96\n",
      "Operational that fail test: 0.03\n",
      "Faulty that pass test: 97\n",
      "Faulty that fail test: 0.01\n"
     ]
    }
   ],
   "source": [
    "\"\"\"\n",
    "Testing answer to a quetsion in ENGG2100 quiz\n",
    "\"\"\"\n",
    "\n",
    "#Imports\n",
    "import random\n",
    "import time\n",
    "from matplotlib import pyplot as plt\n",
    "\n",
    "#Variables\n",
    "num_trials = 10\n",
    "\n",
    "p_operational = 0.98\n",
    "p_faulty = 0.02\n",
    "\n",
    "pass_if_faulty = 0.01\n",
    "fail_if_faulty = 0.99\n",
    "\n",
    "pass_if_operational = 0.97\n",
    "fail_if_operational = 0.03\n",
    "\n",
    "faulty_pass_test = 0\n",
    "faulty_fail_test = 0\n",
    "\n",
    "operational_pass_test = 0\n",
    "operational_fail_test = 0\n",
    "\n",
    "num_tests = 1000000\n",
    "#Functions\n",
    "def get_type():\n",
    "    random_var = random.random()\n",
    "    if(random_var < pass_if_faulty):\n",
    "        return(\"Faulty\")\n",
    "    else:\n",
    "        return(\"Operational\")\n",
    "\n",
    "def get_test(type_var):\n",
    "    random_var = random.random()\n",
    "    if(type_var == \"Faulty\"):\n",
    "        if(random_var < pass_if_faulty):\n",
    "            return(True)\n",
    "        else:\n",
    "            return(False)\n",
    "    else:\n",
    "        if(random_var < fail_if_operational):\n",
    "            return(False)\n",
    "        else:\n",
    "            return(True)\n",
    "#Calculated variables\n",
    "start_time = time.time()\n",
    "\n",
    "#Calculation\n",
    "for i in range(num_tests):\n",
    "    if(get_type() == \"Faulty\"):\n",
    "        if(get_test(\"Faulty\")):\n",
    "            faulty_pass_test += 1\n",
    "        else:\n",
    "            faulty_fail_test += 1\n",
    "    else:\n",
    "        if(get_test(\"Operational\")):\n",
    "            operational_pass_test += 1\n",
    "        else:\n",
    "            operational_fail_test += 1\n",
    "\n",
    "print(\"RESULTS:\")\n",
    "print(\"Operational that pass test: {}\".format(round(operational_pass_test / num_tests, 3)))\n",
    "print(\"Operational that fail test: {}\".format(round(operational_fail_test / num_tests, 3)))\n",
    "print(\"Faulty that pass test: {}\".format(round(faulty_pass_test, 3)))\n",
    "print(\"Faulty that fail test: {}\".format(round(faulty_fail_test / num_tests, 3)))"
   ]
  },
  {
   "cell_type": "code",
   "execution_count": 2,
   "metadata": {},
   "outputs": [
    {
     "name": "stdout",
     "output_type": "stream",
     "text": [
      "0\n",
      "1\n",
      "2\n",
      "3\n",
      "4\n",
      "5\n",
      "6\n",
      "7\n",
      "8\n",
      "9\n"
     ]
    }
   ],
   "source": [
    "\"\"\"\n",
    "Truck sim for Q in ENGG2100\n",
    "\"\"\"\n",
    "\n",
    "#Imports\n",
    "import random\n",
    "\n",
    "#Variables\n",
    "num_trials = 10\n",
    "p_overload_truck = 0.05\n",
    "p_d_both_truck = 0.2\n",
    "p_d_one_truck = 0.05\n",
    "p_d_no_truck = 0.001\n",
    "\n",
    "#Calculation\n",
    "for trial in range(num_trials):\n",
    "    print(trial)\n",
    "    #Generate two trucks\n",
    "    truck_A = random.random()\n",
    "    truck_B = random.random()\n",
    "    \n",
    "    #Calculate damage\n",
    "    \n",
    "\n",
    "#Output\n"
   ]
  },
  {
   "cell_type": "code",
   "execution_count": 18,
   "metadata": {},
   "outputs": [
    {
     "data": {
      "image/png": "[encoded data removed]",
      "text/plain": [
       "<Figure size 432x288 with 1 Axes>"
      ]
     },
     "metadata": {
      "needs_background": "light"
     },
     "output_type": "display_data"
    },
    {
     "data": {
      "image/png": "[encoded data removed]",
      "text/plain": [
       "<Figure size 432x288 with 1 Axes>"
      ]
     },
     "metadata": {
      "needs_background": "light"
     },
     "output_type": "display_data"
    }
   ],
   "source": [
    "\"\"\"Verificaton of L5 | E2 PDF, CDF \"\"\"\n",
    "\n",
    "#Imports\n",
    "from matplotlib import pyplot as plt\n",
    "import numpy\n",
    "\n",
    "#Variables\n",
    "T_min = 0\n",
    "T_max = 300\n",
    "T_steps = 100\n",
    "\n",
    "PDF_data = []\n",
    "CDF_data = []\n",
    "\n",
    "#Functions\n",
    "def PDF(t):\n",
    "    p_T = 0\n",
    "    if(t >= 0):\n",
    "        p_T = 0.02 * numpy.exp(-0.02 * t)\n",
    "    return(p_T)\n",
    "\n",
    "\n",
    "def CDF(t):\n",
    "    p_T = 0\n",
    "    if(t >= 0):\n",
    "        p_T = 1 - numpy.exp(-0.02 * t)\n",
    "    return(p_T)\n",
    "\n",
    "#Calculated variables\n",
    "T_data = numpy.linspace(T_min, T_max, T_steps)\n",
    "\n",
    "#Calculation\n",
    "for t in T_data:\n",
    "    PDF_data.append(PDF(t))\n",
    "    CDF_data.append(CDF(t))\n",
    "\n",
    "#Output\n",
    "plt.title(\"PDF of T\")\n",
    "plt.plot(T_data, PDF_data)\n",
    "plt.xlabel(\"Values of T\")\n",
    "plt.ylabel(\"Probability of T\")\n",
    "plt.show()\n",
    "\n",
    "plt.title(\"CDF of T\")\n",
    "plt.plot(T_data, CDF_data)\n",
    "plt.xlabel(\"Values of T\")\n",
    "plt.ylabel(\"Cululative probability of T\")\n",
    "plt.show()\n"
   ]
  },
  {
   "cell_type": "code",
   "execution_count": 39,
   "metadata": {},
   "outputs": [
    {
     "name": "stdout",
     "output_type": "stream",
     "text": [
      "p(d|w) = 0.054. Calculated with 1000000 trials in 6.924 seconds\n"
     ]
    },
    {
     "data": {
      "image/png": "[encoded data removed]",
      "text/plain": [
       "<Figure size 432x288 with 1 Axes>"
      ]
     },
     "metadata": {
      "needs_background": "light"
     },
     "output_type": "display_data"
    },
    {
     "data": {
      "image/png": "[encoded data removed]",
      "text/plain": [
       "<Figure size 432x288 with 1 Axes>"
      ]
     },
     "metadata": {
      "needs_background": "light"
     },
     "output_type": "display_data"
    }
   ],
   "source": [
    "\"\"\"Verification of Tutorial 3, Q2\"\"\"\n",
    "\n",
    "#Imports\n",
    "import numpy as np\n",
    "import random as r\n",
    "import time\n",
    "from matplotlib import pyplot as plt\n",
    "\n",
    "#Variables\n",
    "super_data = []\n",
    "not_super_data = []\n",
    "max_trials = 1000000\n",
    "\n",
    "v = 0 #Max velocity of wind during storm\n",
    "d = 0 #Event there is wind damage to structure\n",
    "p_s = 0.25\n",
    "\n",
    "storm_damage_limit = 150\n",
    "\n",
    "mew1 = 95\n",
    "cov1 = 0.5\n",
    "\n",
    "mew2 = 80\n",
    "cov2 = 0.4\n",
    "\n",
    "#Precalculation\n",
    "xi1 = np.sqrt(np.log(1 + (cov1**2)))\n",
    "l1 = np.log(mew1) - (xi1**2) / 2\n",
    "\n",
    "xi2 = np.sqrt(np.log(1 + (cov2**2)))\n",
    "l2 = np.log(mew2) - (xi2**2) / 2\n",
    "\n",
    "\n",
    "start = time.time()\n",
    "#Calculation\n",
    "for trial in range(max_trials):\n",
    "    if(r.random() < p_s):\n",
    "        v = np.exp((np.random.normal(0,1, 1)[0] * xi1) + l1)\n",
    "        super_data.append(v)\n",
    "    else:\n",
    "        v = np.exp((np.random.normal(0,1, 1)[0] * xi2) + l2)\n",
    "        not_super_data.append(v)\n",
    "    if(v > storm_damage_limit):\n",
    "        d += 1\n",
    "    \n",
    "\n",
    "#Output\n",
    "print(\"p(d|w) = {}. Calculated with {} trials in {} seconds\".format(round(d / max_trials, 3),max_trials, round(time.time() - start, 3)))\n",
    "plt.hist(super_data, bins = 100)\n",
    "plt.title(\"Distribution of wind velocity in storm (Super)\")\n",
    "plt.xlabel(\"Times given V occured\")\n",
    "plt.ylabel(\"Wind speed (km/h)\")\n",
    "plt.show()\n",
    "\n",
    "plt.hist(not_super_data, bins = 100)\n",
    "plt.title(\"Distribution of wind velocity in storm (Not super)\")\n",
    "plt.xlabel(\"Times given V occured\")\n",
    "plt.ylabel(\"Wind speed (km/h)\")\n",
    "plt.show()"
   ]
  },
  {
   "cell_type": "code",
   "execution_count": 87,
   "metadata": {},
   "outputs": [
    {
     "name": "stdout",
     "output_type": "stream",
     "text": [
      "Test complete in 49.992 seconds\n",
      "Results:\n",
      "\t- mean: 0.402\n",
      "\t- median: 0.402\n",
      "\t- mode: 0.38\n",
      "\t- stdev: 0.001\n"
     ]
    },
    {
     "data": {
      "image/png": "[encoded data removed]",
      "text/plain": [
       "<Figure size 432x288 with 1 Axes>"
      ]
     },
     "metadata": {
      "needs_background": "light"
     },
     "output_type": "display_data"
    }
   ],
   "source": [
    "\"\"\"Verifying Assessment 1 Q4\"\"\"\n",
    "\n",
    "#Imports\n",
    "import random\n",
    "import time\n",
    "from matplotlib import pyplot as plt\n",
    "import statistics as st\n",
    "\n",
    "#Variables\n",
    "max_trials = 10000 #Number of trials to be carried out\n",
    "\n",
    "p_O = 0.98 #Probability that a turbine will OPERATE normally on any particular day\n",
    "p_operational_pass_test = 0.97 #Probability that a turbine OPERATING NORMALLY will PASS the test\n",
    "p_faulty_pass_test = 0.01 #Probability that a FAULTY turbine will PASS the test\n",
    "\n",
    "#Functions\n",
    "def test_while_faulty():\n",
    "    \"\"\"\n",
    "    Returns True if test passed\n",
    "    \"\"\"\n",
    "    r = random.random()\n",
    "    if(r < p_faulty_pass_test):\n",
    "        return(True)\n",
    "    else:\n",
    "        return(False)\n",
    "\n",
    "def test_while_operational():\n",
    "    \"\"\"\n",
    "    Returns True if test passed\n",
    "    \"\"\"\n",
    "    r = random.random()\n",
    "    if(r < p_operational_pass_test):\n",
    "        return(True)\n",
    "    else:\n",
    "        return(False)\n",
    "\n",
    "    \n",
    "#Calculation\n",
    "faulty_turbines = 0\n",
    "faulty_pass = 0\n",
    "faulty_fail = 0\n",
    "operational_turbine = 0\n",
    "op_pass = 0\n",
    "op_fail = 0\n",
    "\n",
    "data = []\n",
    "\n",
    "start = time.time()\n",
    "dfd = 10000\n",
    "for i in range(dfd):\n",
    "    for trial in range(max_trials):\n",
    "        r = random.random()\n",
    "        if(r > p_O):\n",
    "            faulty_turbines += 1\n",
    "            if(test_while_faulty()):\n",
    "                faulty_pass += 1\n",
    "            else:\n",
    "                faulty_fail += 1\n",
    "        else:\n",
    "            operational_turbine += 1\n",
    "            if(test_while_operational()):\n",
    "                op_pass += 1\n",
    "            else:\n",
    "                op_fail += 1\n",
    "\n",
    "    data.append(faulty_fail / (faulty_fail + op_fail))\n",
    "\n",
    "time = round(time.time() - start, 3)\n",
    "\n",
    "aver = round(st.mean(data), 3)\n",
    "stdev = round(st.stdev(data), 3)\n",
    "mode = round(st.mode(data), 3)\n",
    "median = round(st.median(data), 3)\n",
    "\n",
    "#Output\n",
    "print(\"Test complete in {} seconds\".format(time))\n",
    "print(\"Results:\")\n",
    "print(\"\\t- mean: {}\\n\\t- median: {}\\n\\t- mode: {}\\n\\t- stdev: {}\".format(aver, median, mode, stdev))\n",
    "plt.hist(data, bins = 100)\n",
    "plt.title(\"Distribution from {} simulations calculating p(fualty|fail test), each with {} trials\".format(dfd, max_trials))\n",
    "plt.ylabel(\"Times given probability occured\")\n",
    "plt.xlabel(\"p(fualty|fail test)\")\n",
    "plt.show()"
   ]
  },
  {
   "cell_type": "code",
   "execution_count": 132,
   "metadata": {},
   "outputs": [
    {
     "name": "stdout",
     "output_type": "stream",
     "text": [
      "0.18\n"
     ]
    }
   ],
   "source": [
    "\"\"\"Verifying A1, Q5\"\"\"\n",
    "\n",
    "#Imports\n",
    "import random\n",
    "import time\n",
    "from matplotlib import pyplot as plt\n",
    "import statistics as st\n",
    "\n",
    "#Variables\n",
    "max_trials = 1000000 #Number of trials to be carried out\n",
    "\n",
    "p_O = 0.98 #Probability that a turbine will OPERATE normally on any particular day\n",
    "p_operational_pass_test = 0.97 #Probability that a turbine OPERATING NORMALLY will PASS the test\n",
    "p_faulty_pass_test = 0.01 #Probability that a FAULTY turbine will PASS the test\n",
    "\n",
    "#Functions\n",
    "def test_while_faulty():\n",
    "    \"\"\"\n",
    "    Returns True if test passed\n",
    "    \"\"\"\n",
    "    r = random.random()\n",
    "    if(r < p_faulty_pass_test):\n",
    "        return(True)\n",
    "    else:\n",
    "        return(False)\n",
    "\n",
    "def test_while_operational():\n",
    "    \"\"\"\n",
    "    Returns True if test passed\n",
    "    \"\"\"\n",
    "    r = random.random()\n",
    "    if(r < p_operational_pass_test):\n",
    "        return(True)\n",
    "    else:\n",
    "        return(False)\n",
    "\n",
    "    \n",
    "#Calculation\n",
    "O_three_pass = 0\n",
    "O_two_pass = 0\n",
    "O_one_pass = 0\n",
    "O_none_pass = 0\n",
    "F_three_pass = 0\n",
    "F_two_pass = 0\n",
    "F_one_pass = 0\n",
    "F_none_pass = 0\n",
    "\n",
    "faulty = []\n",
    "operational = []\n",
    "for trial in range(max_trials):\n",
    "    \n",
    "    #faulty or not\n",
    "    r = random.random()\n",
    "    if(r > p_O):\n",
    "        tests_passed = 0\n",
    "        #T1\n",
    "        if(test_while_faulty()):\n",
    "            tests_passed += 1\n",
    "        #T2\n",
    "        if(test_while_faulty()):\n",
    "            tests_passed += 1\n",
    "        #T3\n",
    "        if(test_while_faulty()):\n",
    "            tests_passed += 1\n",
    "        #print(\"faulty,\",tests_passed)\n",
    "        faulty.append(tests_passed)\n",
    "        if(tests_passed == 0):\n",
    "            F_none_pass += 1\n",
    "        if(tests_passed == 1):\n",
    "            F_one_pass += 1\n",
    "        if(tests_passed == 2):\n",
    "            F_two_pass += 1\n",
    "        if(tests_passed == 3):\n",
    "            F_three_pass += 1\n",
    "        \n",
    "        \n",
    "    else:\n",
    "        tests_passed = 0\n",
    "        #T1\n",
    "        if(test_while_operational()):\n",
    "            tests_passed += 1\n",
    "        #T2\n",
    "        if(test_while_operational()):\n",
    "            tests_passed += 1\n",
    "        #T3\n",
    "        if(test_while_operational()):\n",
    "            tests_passed += 1\n",
    "        #print(\"operational,\",tests_passed)\n",
    "        operational.append(tests_passed)\n",
    "        if(tests_passed == 0):\n",
    "            O_none_pass += 1\n",
    "        if(tests_passed == 1):\n",
    "            O_one_pass += 1\n",
    "        if(tests_passed == 2):\n",
    "            O_two_pass += 1\n",
    "        if(tests_passed == 3):\n",
    "            O_three_pass += 1\n",
    "\n",
    "\n",
    "\n",
    "#Output\n",
    "print(round((F_one_pass) / (O_one_pass + F_one_pass), 3))"
   ]
  },
  {
   "cell_type": "code",
   "execution_count": 3,
   "metadata": {
    "scrolled": true
   },
   "outputs": [
    {
     "name": "stdout",
     "output_type": "stream",
     "text": [
      "1.333\n",
      "0.544\n",
      "1.185\n"
     ]
    },
    {
     "data": {
      "image/png": "[encoded data removed]",
      "text/plain": [
       "<Figure size 432x288 with 1 Axes>"
      ]
     },
     "metadata": {
      "needs_background": "light"
     },
     "output_type": "display_data"
    },
    {
     "data": {
      "image/png": "[encoded data removed]",
      "text/plain": [
       "<Figure size 432x288 with 1 Axes>"
      ]
     },
     "metadata": {
      "needs_background": "light"
     },
     "output_type": "display_data"
    },
    {
     "name": "stdout",
     "output_type": "stream",
     "text": [
      "[2.66666667 2.66666133 2.666656   ... 0.666668   0.66666733 0.66666667]\n"
     ]
    }
   ],
   "source": [
    "\"\"\"Verifying Q16, 17\"\"\"\n",
    "\n",
    "import numpy as np\n",
    "from matplotlib import pyplot as plt\n",
    "\n",
    "x = np.linspace(3,6,1000000)\n",
    "x_axis = x\n",
    "x = 24 / (x **3)\n",
    "print(round(np.mean(x* x_axis), 3))\n",
    "print(round(np.sqrt(np.var(x* x_axis)), 3))\n",
    "print(round(np.median(x* x_axis), 3))\n",
    "plt.plot(x_axis,x)\n",
    "plt.show()\n",
    "\n",
    "s = 0\n",
    "ds = (6 - 3) / 1000000\n",
    "d = []\n",
    "for i in x:\n",
    "    s += i * ds\n",
    "    d.append(s)\n",
    "\n",
    "plt.plot(d)\n",
    "plt.show()\n",
    "\n",
    "print(x * x_axis)"
   ]
  },
  {
   "cell_type": "code",
   "execution_count": 5,
   "metadata": {},
   "outputs": [
    {
     "name": "stdout",
     "output_type": "stream",
     "text": [
      "0.16959156061883568\n",
      "4.166666666666667\n"
     ]
    }
   ],
   "source": [
    "a = 49/50000\n",
    "b = 651/200000\n",
    "c = 0.0008649\n",
    "\n",
    "den = a+b+c\n",
    "num = c\n",
    "\n",
    "print(num / den)\n",
    "\n",
    "print(100/24)\n"
   ]
  }
 ],
 "metadata": {
  "kernelspec": {
   "display_name": "Python 3",
   "language": "python",
   "name": "python3"
  },
  "language_info": {
   "codemirror_mode": {
    "name": "ipython",
    "version": 3
   },
   "file_extension": ".py",
   "mimetype": "text/x-python",
   "name": "python",
   "nbconvert_exporter": "python",
   "pygments_lexer": "ipython3",
   "version": "3.8.3"
  }
 },
 "nbformat": 4,
 "nbformat_minor": 4
}
