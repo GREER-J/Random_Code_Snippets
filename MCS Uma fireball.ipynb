{
 "cells": [
  {
   "cell_type": "code",
   "execution_count": 8,
   "metadata": {
    "scrolled": true
   },
   "outputs": [
    {
     "name": "stdout",
     "output_type": "stream",
     "text": [
      "Time taken  81.05\n",
      "0.029070000000000002\n",
      "6\n"
     ]
    },
    {
     "data": {
      "image/png": "[encoded data removed]",
      "text/plain": [
       "<Figure size 432x288 with 1 Axes>"
      ]
     },
     "metadata": {
      "needs_background": "light"
     },
     "output_type": "display_data"
    }
   ],
   "source": [
    "\"\"\"\n",
    "Aim:\n",
    "    - Calculate pi to set number of places\n",
    "    - Print the points on a graph showing value vs terms calculated\n",
    "\"\"\"\n",
    "\n",
    "#Imports\n",
    "import random\n",
    "import time\n",
    "import numpy as np\n",
    "from matplotlib import pyplot as plt\n",
    "\n",
    "#Values\n",
    "data = []\n",
    "\n",
    "num_shots = 9 #9 rolls, 2 nat 1's\n",
    "\n",
    "#9 rolls, 3 nat 1's, 2 nat 20's\n",
    "\n",
    "max_trials = 10000000\n",
    "\n",
    "sucesses = 0\n",
    "target = 1\n",
    "\n",
    "nat_ones_max = 0\n",
    "\n",
    "#Precalc\n",
    "start_time = time.time()\n",
    "\n",
    "#Calculation\n",
    "for trial in range(max_trials):    \n",
    "    nat_ones = 0\n",
    "    nat_twenties = 0\n",
    "    for i in range(0, num_shots):\n",
    "        roll = random.randint(1,20)\n",
    "        if(roll == 1):\n",
    "            nat_ones += 1\n",
    "        if(roll == 20):\n",
    "            nat_twenties += 1\n",
    "    if(nat_ones > nat_ones_max):\n",
    "        nat_ones_max = nat_ones\n",
    "    if(nat_ones >= 3 and nat_twenties >= 2):\n",
    "        sucesses += 1\n",
    "    data.append(nat_ones)\n",
    "print(\"Time taken \", round(time.time() - start_time,3))\n",
    "    \n",
    "\n",
    "\n",
    "#Output\n",
    "print((sucesses / max_trials) * 100)\n",
    "print(nat_ones_max)\n",
    "\n",
    "plt.hist(data, bins = num_shots, weights=np.ones(len(data)) / len(data))\n",
    "plt.show()"
   ]
  }
 ],
 "metadata": {
  "kernelspec": {
   "display_name": "Python 3",
   "language": "python",
   "name": "python3"
  },
  "language_info": {
   "codemirror_mode": {
    "name": "ipython",
    "version": 3
   },
   "file_extension": ".py",
   "mimetype": "text/x-python",
   "name": "python",
   "nbconvert_exporter": "python",
   "pygments_lexer": "ipython3",
   "version": "3.8.3"
  }
 },
 "nbformat": 4,
 "nbformat_minor": 4
}
